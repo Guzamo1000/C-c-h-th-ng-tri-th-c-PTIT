{
 "cells": [
  {
   "cell_type": "code",
   "execution_count": 2,
   "metadata": {},
   "outputs": [],
   "source": [
    "from chaining.backward import BackwardChaining\n",
    "from converjson import ConvertData"
   ]
  },
  {
   "cell_type": "code",
   "execution_count": 3,
   "metadata": {},
   "outputs": [],
   "source": [
    "data=ConvertData()\n",
    "data.getbc()\n",
    "luat=data.groupbc()\n",
    "tt=data.converttrieuchung()"
   ]
  },
  {
   "cell_type": "code",
   "execution_count": 4,
   "metadata": {},
   "outputs": [
    {
     "data": {
      "text/plain": [
       "[['D01', 'S01', 'S02', 'S03', 'S04'],\n",
       " ['D01', 'S01', 'S02', 'S05'],\n",
       " ['D01', 'S01', 'S09', 'S13', 'S18'],\n",
       " ['D02', 'S01', 'S02', 'S14', 'S23', 'S25'],\n",
       " ['D02', 'S01', 'S02', 'S14', 'S24', 'S28'],\n",
       " ['D02', 'S01', 'S02', 'S14', 'S27', 'S26'],\n",
       " ['D02', 'S01', 'S02', 'S14', 'S27', 'S29'],\n",
       " ['D02', 'S01', 'S02', 'S12', 'S27', 'S28'],\n",
       " ['D02', 'S01', 'S02', 'S13', 'S27', 'S28'],\n",
       " ['D03', 'S01', 'S02', 'S22', 'S16'],\n",
       " ['D03', 'S01', 'S02', 'S22', 'S17'],\n",
       " ['D03', 'S01', 'S12', 'S22', 'S16'],\n",
       " ['D03', 'S01', 'S12', 'S22', 'S17'],\n",
       " ['D04', 'S01', 'S08', 'S13', 'S22', 'S19'],\n",
       " ['D04', 'S20', 'S01', 'S08', 'S13', 'S22'],\n",
       " ['D04', 'S01', 'S08', 'S18', 'S22', 'S19'],\n",
       " ['D04', 'S01', 'S08', 'S18', 'S22', 'S20'],\n",
       " ['D05', 'S01', 'S06', 'S10', 'S21', 'S30'],\n",
       " ['D05', 'S01', 'S06', 'S30', 'S20', 'S21'],\n",
       " ['D05', 'S01', 'S10', 'S30'],\n",
       " ['D05', 'S01', 'S30', 'S31'],\n",
       " ['D06', 'S07', 'S12'],\n",
       " ['D06', 'S07', 'S11', 'S21'],\n",
       " ['D06', 'S11', 'S12'],\n",
       " ['D06', 'S12', 'S21']]"
      ]
     },
     "execution_count": 4,
     "metadata": {},
     "output_type": "execute_result"
    }
   ],
   "source": [
    "luat"
   ]
  },
  {
   "cell_type": "code",
   "execution_count": 5,
   "metadata": {},
   "outputs": [],
   "source": [
    "trieuchung=data.gettrieuchung()\n",
    "goal='D02'\n",
    "all_fact=trieuchung[goal]\n",
    "fact_use=[]"
   ]
  },
  {
   "cell_type": "code",
   "execution_count": 6,
   "metadata": {},
   "outputs": [
    {
     "data": {
      "text/plain": [
       "['S01',\n",
       " 'S02',\n",
       " 'S12',\n",
       " 'S13',\n",
       " 'S14',\n",
       " 'S23',\n",
       " 'S24',\n",
       " 'S25',\n",
       " 'S26',\n",
       " 'S27',\n",
       " 'S28',\n",
       " 'S29']"
      ]
     },
     "execution_count": 6,
     "metadata": {},
     "output_type": "execute_result"
    }
   ],
   "source": [
    "all_fact"
   ]
  },
  {
   "cell_type": "code",
   "execution_count": 7,
   "metadata": {},
   "outputs": [
    {
     "name": "stdout",
     "output_type": "stream",
     "text": [
      "[3, 4, 5, 6, 7, 8]\n",
      "goal D02\n"
     ]
    },
    {
     "data": {
      "text/plain": [
       "<chaining.backward.BackwardChaining at 0x1ef15e2f490>"
      ]
     },
     "execution_count": 7,
     "metadata": {},
     "output_type": "execute_result"
    }
   ],
   "source": [
    "# fact_use=['D01','D02','D12','D27','D28']\n",
    "fact_use=['S11','S12']\n",
    "BackwardChaining(luat,fact_use,goal)"
   ]
  },
  {
   "cell_type": "code",
   "execution_count": 8,
   "metadata": {},
   "outputs": [
    {
     "ename": "SyntaxError",
     "evalue": "invalid syntax (1419025683.py, line 7)",
     "output_type": "error",
     "traceback": [
      "\u001b[1;36m  Cell \u001b[1;32mIn [8], line 7\u001b[1;36m\u001b[0m\n\u001b[1;33m    print(p.)\u001b[0m\n\u001b[1;37m            ^\u001b[0m\n\u001b[1;31mSyntaxError\u001b[0m\u001b[1;31m:\u001b[0m invalid syntax\n"
     ]
    }
   ],
   "source": [
    "for fact in all_fact:\n",
    "    question=f'Bạn có mắc triệu chứng {fact}'\n",
    "    answer=input(question)\n",
    "    if answer==1:\n",
    "        fact_use.append(fact)\n",
    "        p=BackwardChaining(luat,fact_use,goal)\n",
    "        print(p.)"
   ]
  }
 ],
 "metadata": {
  "kernelspec": {
   "display_name": "Python 3",
   "language": "python",
   "name": "python3"
  },
  "language_info": {
   "codemirror_mode": {
    "name": "ipython",
    "version": 3
   },
   "file_extension": ".py",
   "mimetype": "text/x-python",
   "name": "python",
   "nbconvert_exporter": "python",
   "pygments_lexer": "ipython3",
   "version": "3.11.0"
  },
  "orig_nbformat": 4,
  "vscode": {
   "interpreter": {
    "hash": "72b2382ece9768098284d92bbc69d35954e75b60d1e25897d1389c232f4796f0"
   }
  }
 },
 "nbformat": 4,
 "nbformat_minor": 2
}
