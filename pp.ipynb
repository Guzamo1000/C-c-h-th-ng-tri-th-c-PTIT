{
 "cells": [
  {
   "cell_type": "code",
   "execution_count": 11,
   "metadata": {},
   "outputs": [],
   "source": [
    "from converjson import ConvertData\n",
    "import mysql.connector\n",
    "import pandas as pd"
   ]
  },
  {
   "cell_type": "code",
   "execution_count": 12,
   "metadata": {},
   "outputs": [],
   "source": [
    "mydb = mysql.connector.connect(\n",
    "  host=\"127.0.0.1\",\n",
    "  user=\"root\",\n",
    "  password=\"258000\",\n",
    "  database=\"chttt\"\n",
    ")"
   ]
  },
  {
   "cell_type": "code",
   "execution_count": 13,
   "metadata": {},
   "outputs": [],
   "source": [
    "d=mydb.cursor()\n",
    "d.execute(\"SELECT * FROM chttt.benh;\")\n",
    "benh=d.fetchall()\n",
    "idb=[]\n",
    "tb=[]\n",
    "nn=[]\n",
    "lk=[]\n",
    "for b in benh:\n",
    "    idb.append(b[0])\n",
    "    tb.append(b[1])\n",
    "    nn.append(b[2])\n",
    "    lk.append(b[3])\n"
   ]
  },
  {
   "cell_type": "code",
   "execution_count": 14,
   "metadata": {},
   "outputs": [
    {
     "data": {
      "text/plain": [
       "['Chế độ ăn uống: Trong cơn đau người bệnh cần tránh dùng các thức uống có nhiều cà phê, rượu, thuốc lá.../n Chế độ ăn toàn sữa không phù hợp vì khả năng trung hòa mạnh của sữa sau đó gây tăng tiết mạnh hơn cả cà phê và trà; tránh ăn phụ ban đêm hoặc trước khi đi ngủ gây tiết acid ban đêm /n Có thể sử dụng men vi sinh hoặc một số sản phẩm có men vi sinh vì chúng có tác dụng hỗ trợ tiêu hoá, làm giảm các triệu chứng đầy hơi, khó tiêu, ợ chua, hỗ trợ điều trị viêm loét dạ dày tá tràng. /nTrong quá trình chữa viêm loét dạ dày tá tràng, hãy chia nhỏ các bữa ăn, không ăn quá no vào các bữa chính. Đồng thời người bệnh nên ăn các thực phẩm dễ tiêu như rau củ quả, tránh thức ăn mỡ và quá nhiều bột đường. /nNhóm thuốc chống viêm giảm đau thông thường cũng là nguyên nhân gây viêm loét dạ dày tá tràng. Các thuốc nhóm này bao gồm: aspirin, ibuprofen, diclofenac…Trong quá trình điều trị viêm loét dạ dày tá tràng, bạn nên sử dụng các thuốc này ở liều thấp, dùng trong thời gian ngắn theo chỉ định của bác sĩ hoặc dược sĩ. /nViệc điều trị bệnh viêm loét dạ dày tá tràng sẽ phụ thuộc vào tình trạng viêm loét, giai đoạn phát bệnh của bệnh nhân. Bạn nên đến bệnh viện để nội soi tiêu hóa trên để có thể có liệu trình phù hợp nhất cho chính mình.',\n",
       " 'Thực hiện tư thế ngủ rất quan trọng, cần nằm đầu cao và nằm nghiêng bên trái \\\\nTập luyện thể dục thể thao hoặc thiền để giảm stress \\\\nKhông nên để cân nặng tăng quá nhiều \\\\nKhông nên ăn quá no \\\\nKhông dùng các chất có cồn \\\\nCác bữa ăn nên được chia nhỏ hợp lý \\\\nKhông nên đi nằm ngay sau khi ăn no \\\\nKhông nên ăn bữa tối quá muộn \\\\nBánh mì làm từ ngũ cốc nguyên hạt, gạo nguyên cám và yến mạch. Đây là lựa chọn được nhiều chuyên gia về tiêu hóa đánh giá cao vì khả năng làm giảm lượng acid thừa bên trong dạ dày, giảm triệu chứng trào ngược dạ dày. \\\\nSữa chua có chứa nhiều lợi khuẩn hỗ trợ tốt cho đường tiêu hóa. Món này cũng có thể kết hợp với các loại trái cây cũng như bánh mì, yến mạch. \\\\nCác loại trái cây chứa ít acid như táo, lê, chuối. \\\\nCác loại đạm dễ tiêu: thịt thăn lợn, thịt ngan, thịt lưỡi lợn góp phần giúp trung hòa axit, hạn chế các triệu chứng của bệnh đối với người bị trào ngược dạ dày. \\\\nCác loại cá được chế biến bằng cách nướng, hấp hoặc nấu canh. \\\\nKhông nên ăn thức ăn nhiều chất béo, dầu mỡ sẽ khiến cho dạ dày phải làm việc vất vả hơn để tiêu hóa, thời gian tiêu hóa thức ăn kéo dài sẽ tăng nguy cơ bị trào ngược. \\\\nKhông nên uống cà phê, bia rượu và các thức uống có gas như nước ngọt sẽ làm trướng bụng và gây ra những tác động không tốt đối với cơ thắt dạ dày thực quản. Bia rượu và các dạng thức uống có cồn khác nếu uống liên tục và kéo dài đều có nhiều tác hại cho tất cả mọi người, không chỉ riêng người bị bệnh trào ngược dạ dày. \\\\nKhông nên ăn các món ăn, trái cây có vị chua sẽ làm tăng tiết dịch ở dạ dày, và điều này gây ra những tác hại không tốt cho người bệnh.',\n",
       " 'Tránh hút thuốc lá, uống rượu bia nhiều. \\\\nDuy trì thói quen tập thể dục mỗi ngày để tăng sức đề kháng và nâng cao hệ miễn dịch. \\\\nHạn chế dùng thuốc giảm đau chống viêm không Steroid, nếu bắt buộc sử dụng, người bệnh nên tham khảo ý kiến bác sĩ. \\\\nDuy trì ăn uống sinh hoạt ngủ nghỉ điều độ, một tinh thần lạc quan, vui vẻ, tránh căng thẳng, stress. \\\\nHình thành đồng hồ sinh học lý tưởng cho cơ thể, hạn chế tối đa việc thức khuya.',\n",
       " 'Nên thay đổi thói quen ăn uống cũng như lối sống lành mạnh \\\\nNên ăn Những loại loại rau củ có màu sẫm như có thể là rau cải, cải bắp, măng tây,... là những thực phẩm giàu dinh dưỡng, ưu tiên sử dụng cho người đang gặp vấn đề về tiêu hóa như viêm hang vị dạ dày. \\\\nXây dựng thói quen hạn chế uống rượu bia, sử dụng các chất kích thích cũng là một cách hiệu quả để cải thiện và duy trì chức năng hang vị ở mức ổn định \\\\nChế độ ăn uống khoa học hợp lý, ăn chậm, nhai kỹ, không ăn quá no ',\n",
       " 'Tuân thủ theo hướng dẫn của bác sĩ \\\\nDuy trì lối sống tích cực, hạn chế căng thẳng \\\\nĂn nhiều thực phẩ có nhiều chất xơ và vitamin A \\\\nTránh sử dụng cà phê, nước uống có cồn. \\\\nHạn chế dùng thức ăn có vị cay.\\\\nNên sử dụng trà xanh hoặc thực phẩm giàu flavonoid như tỏi, hành tây, trái cây rau quả có nhiều màu sắc như việt quất, dâu tây, bông cải,...',\n",
       " 'Duy trì tập thể dục nhẹ \\\\nHạn chế rượu, bia và chât kích thích \\\\nSử dụng những thực phẩm đạt tiêu chuẩn an toàn vệ sinh thực phẩm, chế độ ăn giàu chất xơ \\\\nĐiều trị các bệnh lý về dạ dày theo chỉ định của bác sĩ ngay khi phát hiện bệnh. \\\\nTầm soát ung thư dạ dày định kỳ, đặc biệt với những người có tiền sử gia đình có người mắc ung thư đường tiêu hóa.']"
      ]
     },
     "execution_count": 14,
     "metadata": {},
     "output_type": "execute_result"
    }
   ],
   "source": [
    "lk"
   ]
  },
  {
   "cell_type": "code",
   "execution_count": 15,
   "metadata": {},
   "outputs": [],
   "source": [
    "new_nn=[]\n",
    "newlk=[]\n",
    "for i in nn:\n",
    "    lsnn=i.replace(\"/n\",'\\n')\n",
    "    new_nn.append(lsnn)\n",
    "for i in lk:\n",
    "    lslk=i.replace(\"/n\",\"\\n\")\n",
    "    newlk.append(lslk)"
   ]
  },
  {
   "cell_type": "code",
   "execution_count": 16,
   "metadata": {},
   "outputs": [
    {
     "name": "stdout",
     "output_type": "stream",
     "text": [
      "Chế độ ăn uống: Trong cơn đau người bệnh cần tránh dùng các thức uống có nhiều cà phê, rượu, thuốc lá...\n",
      " Chế độ ăn toàn sữa không phù hợp vì khả năng trung hòa mạnh của sữa sau đó gây tăng tiết mạnh hơn cả cà phê và trà; tránh ăn phụ ban đêm hoặc trước khi đi ngủ gây tiết acid ban đêm \n",
      " Có thể sử dụng men vi sinh hoặc một số sản phẩm có men vi sinh vì chúng có tác dụng hỗ trợ tiêu hoá, làm giảm các triệu chứng đầy hơi, khó tiêu, ợ chua, hỗ trợ điều trị viêm loét dạ dày tá tràng. \n",
      "Trong quá trình chữa viêm loét dạ dày tá tràng, hãy chia nhỏ các bữa ăn, không ăn quá no vào các bữa chính. Đồng thời người bệnh nên ăn các thực phẩm dễ tiêu như rau củ quả, tránh thức ăn mỡ và quá nhiều bột đường. \n",
      "Nhóm thuốc chống viêm giảm đau thông thường cũng là nguyên nhân gây viêm loét dạ dày tá tràng. Các thuốc nhóm này bao gồm: aspirin, ibuprofen, diclofenac…Trong quá trình điều trị viêm loét dạ dày tá tràng, bạn nên sử dụng các thuốc này ở liều thấp, dùng trong thời gian ngắn theo chỉ định của bác sĩ hoặc dược sĩ. \n",
      "Việc điều trị bệnh viêm loét dạ dày tá tràng sẽ phụ thuộc vào tình trạng viêm loét, giai đoạn phát bệnh của bệnh nhân. Bạn nên đến bệnh viện để nội soi tiêu hóa trên để có thể có liệu trình phù hợp nhất cho chính mình.\n"
     ]
    }
   ],
   "source": [
    "print(newlk[0])"
   ]
  },
  {
   "cell_type": "code",
   "execution_count": 17,
   "metadata": {},
   "outputs": [],
   "source": [
    "newdf=pd.DataFrame()\n",
    "newdf['idbenh']=idb"
   ]
  },
  {
   "cell_type": "code",
   "execution_count": 18,
   "metadata": {},
   "outputs": [
    {
     "data": {
      "text/plain": [
       "[{'idtrieuchung': 'S01', 'noidung': 'Đau bụng'},\n",
       " {'idtrieuchung': 'S02', 'noidung': 'Đau bụng vùng thượng vị (sau rốn)'},\n",
       " {'idtrieuchung': 'S03',\n",
       "  'noidung': 'Đau từng đợt mỗi đợt kéo dài 2 - 8 tuần cách nhau vài tháng đến vài năm.'},\n",
       " {'idtrieuchung': 'S04',\n",
       "  'noidung': 'Đau liên hệ đến bữa ăn, sau ăn 30 phút - 2 giờ'},\n",
       " {'idtrieuchung': 'S05',\n",
       "  'noidung': 'Đau vào đêm khua 1 – 2 giờ sáng, hoặc đau xảy ra khi đói khi ăn sẽ đỡ. Cơn đau có thể đánh thức bệnh nhân khỏi giấc ngủ nhưng đến sáng thì hết.'},\n",
       " {'idtrieuchung': 'S06',\n",
       "  'noidung': 'Đau bụng dữ và đột ngột và sốc từ 3 phút đến 1 giờ'},\n",
       " {'idtrieuchung': 'S07',\n",
       "  'noidung': 'Đau thượng vị theo từng đợt, ngày càng trầm trọng và không giảm dù đã dùng thuốc'},\n",
       " {'idtrieuchung': 'S08',\n",
       "  'noidung': 'Vùng thượng vị xuất hiện cơn đau âm ỉ kéo dài từ bài phút đến vài giờ, có tính chu kỳ và có thể đau quặn từng cơn'},\n",
       " {'idtrieuchung': 'S09', 'noidung': 'Đầy hơi sau khi ăn'},\n",
       " {'idtrieuchung': 'S10', 'noidung': 'Bụng trướng, co cứng thành bụng'},\n",
       " {'idtrieuchung': 'S11',\n",
       "  'noidung': 'Sưng bụng, đầy bụng bất thường sau khi ăn kèm cảm giác khó chịu'},\n",
       " {'idtrieuchung': 'S12', 'noidung': 'Đầy bụng, khó tiêu'},\n",
       " {'idtrieuchung': 'S13', 'noidung': 'Ợ nóng, ợ hơi,ợ chua'},\n",
       " {'idtrieuchung': 'S14',\n",
       "  'noidung': 'Nôn ra thức ăn hoặc dịch vị sau khi ăn no hoặc nằm liền sau khi ăn'},\n",
       " {'idtrieuchung': 'S15', 'noidung': 'Ợ nhiều vào ban đêm'},\n",
       " {'idtrieuchung': 'S16',\n",
       "  'noidung': 'Nôn ra thức ăn lẫn máu tươi hoặc máu đen'},\n",
       " {'idtrieuchung': 'S17', 'noidung': 'Đi ngoài ra máu'},\n",
       " {'idtrieuchung': 'S18', 'noidung': 'Buồn nôn, nôn mửa đặc biệt sau khi ăn'},\n",
       " {'idtrieuchung': 'S19',\n",
       "  'noidung': 'Màu phân thay đổi có thể chuyển sang màu đen hoặc màu khác'},\n",
       " {'idtrieuchung': 'S20',\n",
       "  'noidung': 'Nôn ra máu hoặc dịch màu (có vị đắng do là dịch mật)'},\n",
       " {'idtrieuchung': 'S21',\n",
       "  'noidung': 'Mặt mày xanh xám, nhợt nhạt, lo âu, sợ hãi, toát mồ hôi. Mũi và đầu chi lạnh. Thân nhiệt hạ thấp dưới 36 độ'},\n",
       " {'idtrieuchung': 'S22',\n",
       "  'noidung': 'Hoa mắt, chóng mặt, choáng váng, tụt huyết áp, suy nhược, mệt mỏi, da tái nhợt và thiếu sức sống'},\n",
       " {'idtrieuchung': 'S23',\n",
       "  'noidung': 'khó nuốt, vướng hoặc cảm giác như một cục nghẹn ở cổ'},\n",
       " {'idtrieuchung': 'S24', 'noidung': 'Đau họng, ho kéo dài và khan tiếng'},\n",
       " {'idtrieuchung': 'S25', 'noidung': 'phù nề, sưng tấy niêm mạc thực quản'},\n",
       " {'idtrieuchung': 'S26', 'noidung': 'miệng thường tiết ra nhiều nước bọt'},\n",
       " {'idtrieuchung': 'S27', 'noidung': 'cảm giác đắng hoặc chua trong miệng'},\n",
       " {'idtrieuchung': 'S28', 'noidung': 'Acid chua trào lên nhiều sau khi ợ chua'},\n",
       " {'idtrieuchung': 'S29', 'noidung': 'dịch vị trào lên có kèm theo dịch mật'},\n",
       " {'idtrieuchung': 'S30', 'noidung': 'Bí trung đại tiện (Tắc ruột)'},\n",
       " {'idtrieuchung': 'S31', 'noidung': 'Tiền sử loét dạ dày'},\n",
       " {'idtrieuchung': 'S01', 'noidung': 'Đau bụng'},\n",
       " {'idtrieuchung': 'S02', 'noidung': 'Đau bụng vùng thượng vị (sau rốn)'},\n",
       " {'idtrieuchung': 'S03',\n",
       "  'noidung': 'Đau từng đợt mỗi đợt kéo dài 2 - 8 tuần cách nhau vài tháng đến vài năm.'},\n",
       " {'idtrieuchung': 'S04',\n",
       "  'noidung': 'Đau liên hệ đến bữa ăn, sau ăn 30 phút - 2 giờ'},\n",
       " {'idtrieuchung': 'S05',\n",
       "  'noidung': 'Đau vào đêm khua 1 – 2 giờ sáng, hoặc đau xảy ra khi đói khi ăn sẽ đỡ. Cơn đau có thể đánh thức bệnh nhân khỏi giấc ngủ nhưng đến sáng thì hết.'},\n",
       " {'idtrieuchung': 'S06',\n",
       "  'noidung': 'Đau bụng dữ và đột ngột và sốc từ 3 phút đến 1 giờ'},\n",
       " {'idtrieuchung': 'S07',\n",
       "  'noidung': 'Đau thượng vị theo từng đợt, ngày càng trầm trọng và không giảm dù đã dùng thuốc'},\n",
       " {'idtrieuchung': 'S08',\n",
       "  'noidung': 'Vùng thượng vị xuất hiện cơn đau âm ỉ kéo dài từ bài phút đến vài giờ, có tính chu kỳ và có thể đau quặn từng cơn'},\n",
       " {'idtrieuchung': 'S09', 'noidung': 'Đầy hơi sau khi ăn'},\n",
       " {'idtrieuchung': 'S10', 'noidung': 'Bụng trướng, co cứng thành bụng'},\n",
       " {'idtrieuchung': 'S11',\n",
       "  'noidung': 'Sưng bụng, đầy bụng bất thường sau khi ăn kèm cảm giác khó chịu'},\n",
       " {'idtrieuchung': 'S12', 'noidung': 'Đầy bụng, khó tiêu'},\n",
       " {'idtrieuchung': 'S13', 'noidung': 'Ợ nóng, ợ hơi,ợ chua'},\n",
       " {'idtrieuchung': 'S14',\n",
       "  'noidung': 'Nôn ra thức ăn hoặc dịch vị sau khi ăn no hoặc nằm liền sau khi ăn'},\n",
       " {'idtrieuchung': 'S15', 'noidung': 'Ợ nhiều vào ban đêm'},\n",
       " {'idtrieuchung': 'S16',\n",
       "  'noidung': 'Nôn ra thức ăn lẫn máu tươi hoặc máu đen'},\n",
       " {'idtrieuchung': 'S17', 'noidung': 'Đi ngoài ra máu'},\n",
       " {'idtrieuchung': 'S18', 'noidung': 'Buồn nôn, nôn mửa đặc biệt sau khi ăn'},\n",
       " {'idtrieuchung': 'S19',\n",
       "  'noidung': 'Màu phân thay đổi có thể chuyển sang màu đen hoặc màu khác'},\n",
       " {'idtrieuchung': 'S20',\n",
       "  'noidung': 'Nôn ra máu hoặc dịch màu (có vị đắng do là dịch mật)'},\n",
       " {'idtrieuchung': 'S21',\n",
       "  'noidung': 'Mặt mày xanh xám, nhợt nhạt, lo âu, sợ hãi, toát mồ hôi. Mũi và đầu chi lạnh. Thân nhiệt hạ thấp dưới 36 độ'},\n",
       " {'idtrieuchung': 'S22',\n",
       "  'noidung': 'Hoa mắt, chóng mặt, choáng váng, tụt huyết áp, suy nhược, mệt mỏi, da tái nhợt và thiếu sức sống'},\n",
       " {'idtrieuchung': 'S23',\n",
       "  'noidung': 'khó nuốt, vướng hoặc cảm giác như một cục nghẹn ở cổ'},\n",
       " {'idtrieuchung': 'S24', 'noidung': 'Đau họng, ho kéo dài và khan tiếng'},\n",
       " {'idtrieuchung': 'S25', 'noidung': 'phù nề, sưng tấy niêm mạc thực quản'},\n",
       " {'idtrieuchung': 'S26', 'noidung': 'miệng thường tiết ra nhiều nước bọt'},\n",
       " {'idtrieuchung': 'S27', 'noidung': 'cảm giác đắng hoặc chua trong miệng'},\n",
       " {'idtrieuchung': 'S28', 'noidung': 'Acid chua trào lên nhiều sau khi ợ chua'},\n",
       " {'idtrieuchung': 'S29', 'noidung': 'dịch vị trào lên có kèm theo dịch mật'},\n",
       " {'idtrieuchung': 'S30', 'noidung': 'Bí trung đại tiện (Tắc ruột)'},\n",
       " {'idtrieuchung': 'S31', 'noidung': 'Tiền sử loét dạ dày'}]"
      ]
     },
     "execution_count": 18,
     "metadata": {},
     "output_type": "execute_result"
    }
   ],
   "source": [
    "data=ConvertData()\n",
    "data.getbc()\n",
    "rule=data.groupbc()\n",
    "tt=data.converttrieuchung()\n",
    "all_rule=data.gettrieuchung()\n",
    "data.convertbenh()\n",
    "data.converttrieuchung()"
   ]
  },
  {
   "cell_type": "code",
   "execution_count": 19,
   "metadata": {},
   "outputs": [],
   "source": [
    "l=\"jdaiwjdioajjadiwjdoaw \\n hehe\""
   ]
  },
  {
   "cell_type": "code",
   "execution_count": 20,
   "metadata": {},
   "outputs": [
    {
     "name": "stdout",
     "output_type": "stream",
     "text": [
      "jdaiwjdioajjadiwjdoaw \n",
      " hehe\n"
     ]
    }
   ],
   "source": [
    "print(l)"
   ]
  },
  {
   "cell_type": "code",
   "execution_count": null,
   "metadata": {},
   "outputs": [],
   "source": []
  }
 ],
 "metadata": {
  "kernelspec": {
   "display_name": "Python 3",
   "language": "python",
   "name": "python3"
  },
  "language_info": {
   "codemirror_mode": {
    "name": "ipython",
    "version": 3
   },
   "file_extension": ".py",
   "mimetype": "text/x-python",
   "name": "python",
   "nbconvert_exporter": "python",
   "pygments_lexer": "ipython3",
   "version": "3.11.0"
  },
  "orig_nbformat": 4,
  "vscode": {
   "interpreter": {
    "hash": "72b2382ece9768098284d92bbc69d35954e75b60d1e25897d1389c232f4796f0"
   }
  }
 },
 "nbformat": 4,
 "nbformat_minor": 2
}
